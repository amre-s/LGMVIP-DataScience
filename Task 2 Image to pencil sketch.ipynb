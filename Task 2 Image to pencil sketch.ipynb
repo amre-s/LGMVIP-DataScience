{
 "cells": [
  {
   "cell_type": "markdown",
   "id": "656647c7",
   "metadata": {},
   "source": [
    "# Task 2 LGM - VIP Image to Pencil Sketch with Python\n",
    "## Amretha Selvaraj\n",
    "### In this task we convert an color image to a pencil sketch with Python by using cv2 library"
   ]
  },
  {
   "cell_type": "markdown",
   "id": "b883b8b1",
   "metadata": {},
   "source": [
    "Step1: Importing cv2 library"
   ]
  },
  {
   "cell_type": "code",
   "execution_count": 17,
   "id": "c60a8780",
   "metadata": {},
   "outputs": [],
   "source": [
    "import cv2"
   ]
  },
  {
   "cell_type": "markdown",
   "id": "b09b6012",
   "metadata": {},
   "source": [
    "Step2: Read the input image we want to pencil sketch"
   ]
  },
  {
   "cell_type": "code",
   "execution_count": 18,
   "id": "7f376b7c",
   "metadata": {},
   "outputs": [],
   "source": [
    "image = cv2.imread('image.jpg')\n"
   ]
  },
  {
   "cell_type": "markdown",
   "id": "edbba1a4",
   "metadata": {},
   "source": [
    "Step3: Convert the colour image to black and white image using COLOR_BGR2GRAY"
   ]
  },
  {
   "cell_type": "code",
   "execution_count": 19,
   "id": "834ba806",
   "metadata": {},
   "outputs": [],
   "source": [
    "gray_image = cv2.cvtColor(image,cv2.COLOR_BGR2GRAY)"
   ]
  },
  {
   "cell_type": "code",
   "execution_count": 20,
   "id": "62a07c74",
   "metadata": {},
   "outputs": [
    {
     "data": {
      "text/plain": [
       "array([[ 53,  54,  55, ...,  44,  43,  46],\n",
       "       [ 49,  49,  49, ...,  46,  46,  48],\n",
       "       [ 44,  44,  44, ...,  49,  49,  51],\n",
       "       ...,\n",
       "       [ 43,  44,  45, ..., 107, 106, 106],\n",
       "       [ 43,  44,  45, ..., 108, 107, 106],\n",
       "       [ 43,  44,  46, ..., 108, 107, 106]], dtype=uint8)"
      ]
     },
     "execution_count": 20,
     "metadata": {},
     "output_type": "execute_result"
    }
   ],
   "source": [
    "gray_image"
   ]
  },
  {
   "cell_type": "markdown",
   "id": "2bd3642d",
   "metadata": {},
   "source": [
    "Step4: Convert the black and white image to an inverted image by subtracting 255 from it"
   ]
  },
  {
   "cell_type": "code",
   "execution_count": 21,
   "id": "2d0b6169",
   "metadata": {},
   "outputs": [],
   "source": [
    "inverted_image = 255 - gray_image"
   ]
  },
  {
   "cell_type": "markdown",
   "id": "cf37e360",
   "metadata": {},
   "source": [
    "Step5: The inverted image is now blurred using Gaussianblur function"
   ]
  },
  {
   "cell_type": "code",
   "execution_count": 22,
   "id": "a0fa4f80",
   "metadata": {},
   "outputs": [],
   "source": [
    "blurred_image = cv2.GaussianBlur(inverted_image, (21,21), 0)"
   ]
  },
  {
   "cell_type": "markdown",
   "id": "1ebff770",
   "metadata": {},
   "source": [
    "Step7: This blurred image we obtained is again inverted. The pencil sketch is obtained by dividing the grayscale image by the inverted blurry image"
   ]
  },
  {
   "cell_type": "code",
   "execution_count": 23,
   "id": "9233fb1f",
   "metadata": {},
   "outputs": [],
   "source": [
    "inverted_blurred = 255 - blurred_image\n",
    "pencil_sketch = cv2.divide(gray_image, inverted_blurred, scale=256.0)"
   ]
  },
  {
   "cell_type": "markdown",
   "id": "e4878689",
   "metadata": {},
   "source": [
    "Step8: Lets compare the original image with the pencil sketch obtained using the below code"
   ]
  },
  {
   "cell_type": "code",
   "execution_count": 24,
   "id": "33cc8b50",
   "metadata": {},
   "outputs": [
    {
     "data": {
      "text/plain": [
       "-1"
      ]
     },
     "execution_count": 24,
     "metadata": {},
     "output_type": "execute_result"
    }
   ],
   "source": [
    "cv2.imshow(\"original image\", image)\n",
    "cv2.imshow(\"pencil sketch\", pencil_sketch)\n",
    "cv2.waitKey(0)"
   ]
  },
  {
   "cell_type": "code",
   "execution_count": null,
   "id": "8209b0d6",
   "metadata": {},
   "outputs": [],
   "source": []
  }
 ],
 "metadata": {
  "kernelspec": {
   "display_name": "Python 3",
   "language": "python",
   "name": "python3"
  },
  "language_info": {
   "codemirror_mode": {
    "name": "ipython",
    "version": 3
   },
   "file_extension": ".py",
   "mimetype": "text/x-python",
   "name": "python",
   "nbconvert_exporter": "python",
   "pygments_lexer": "ipython3",
   "version": "3.8.8"
  }
 },
 "nbformat": 4,
 "nbformat_minor": 5
}
